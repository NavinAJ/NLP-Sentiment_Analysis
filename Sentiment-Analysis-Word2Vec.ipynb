{
 "cells": [
  {
   "cell_type": "markdown",
   "metadata": {},
   "source": [
    "<h1 align='center'> Sentiment Analysis using Word2vec & LSTM"
   ]
  },
  {
   "cell_type": "code",
   "execution_count": 1,
   "metadata": {},
   "outputs": [
    {
     "name": "stderr",
     "output_type": "stream",
     "text": [
      "Using TensorFlow backend.\n"
     ]
    }
   ],
   "source": [
    "import numpy as np\n",
    "import pandas as pd\n",
    "\n",
    "#Preprocessing libraries\n",
    "from nltk.corpus import stopwords\n",
    "from nltk.stem import WordNetLemmatizer\n",
    "from nltk.stem.porter import PorterStemmer\n",
    "from contractions import CONTRACTION_MAP #Importing contractions script\n",
    "import unicodedata\n",
    "import re\n",
    "\n",
    "#Vectorizer library.\n",
    "from keras.preprocessing.text import text_to_word_sequence,Tokenizer\n",
    "from keras.preprocessing.sequence import pad_sequences\n",
    "from sklearn.feature_extraction.text import TfidfVectorizer,CountVectorizer, HashingVectorizer\n",
    "\n",
    "#evaluation matrices library\n",
    "from sklearn.metrics import confusion_matrix,f1_score,accuracy_score\n",
    "\n",
    "#LSTM Model\n",
    "from keras.models import Sequential\n",
    "from keras.layers import LSTM, Dense, Dropout, Masking, Embedding\n",
    "from keras.layers.embeddings import Embedding\n",
    "from keras.callbacks import ModelCheckpoint\n",
    "from keras.models import load_model\n",
    "from sklearn.model_selection import train_test_split\n",
    "\n",
    "#Word2Vec\n",
    "from gensim.models import KeyedVectors\n",
    "import gensim\n",
    "import os\n",
    "\n",
    "#visulaization:\n",
    "from wordcloud import WordCloud\n",
    "import matplotlib.pyplot as plt\n",
    "import seaborn as sns\n",
    "%matplotlib inline"
   ]
  },
  {
   "cell_type": "code",
   "execution_count": 2,
   "metadata": {},
   "outputs": [],
   "source": [
    "#Read .csv file\n",
    "filename = 'Twitter_Data.csv'\n",
    "analysis_df = pd.read_csv(filename,encoding='latin1',usecols=['text','sentiment'])"
   ]
  },
  {
   "cell_type": "code",
   "execution_count": 3,
   "metadata": {},
   "outputs": [
    {
     "data": {
      "text/html": [
       "<div>\n",
       "<style scoped>\n",
       "    .dataframe tbody tr th:only-of-type {\n",
       "        vertical-align: middle;\n",
       "    }\n",
       "\n",
       "    .dataframe tbody tr th {\n",
       "        vertical-align: top;\n",
       "    }\n",
       "\n",
       "    .dataframe thead th {\n",
       "        text-align: right;\n",
       "    }\n",
       "</style>\n",
       "<table border=\"1\" class=\"dataframe\">\n",
       "  <thead>\n",
       "    <tr style=\"text-align: right;\">\n",
       "      <th></th>\n",
       "      <th>text</th>\n",
       "      <th>sentiment</th>\n",
       "    </tr>\n",
       "  </thead>\n",
       "  <tbody>\n",
       "    <tr>\n",
       "      <th>0</th>\n",
       "      <td>when modi promised âminimum government maxim...</td>\n",
       "      <td>-1.0</td>\n",
       "    </tr>\n",
       "    <tr>\n",
       "      <th>1</th>\n",
       "      <td>talk all the nonsense and continue all the dra...</td>\n",
       "      <td>0.0</td>\n",
       "    </tr>\n",
       "    <tr>\n",
       "      <th>2</th>\n",
       "      <td>what did just say vote for modi  welcome bjp t...</td>\n",
       "      <td>1.0</td>\n",
       "    </tr>\n",
       "    <tr>\n",
       "      <th>3</th>\n",
       "      <td>asking his supporters prefix chowkidar their n...</td>\n",
       "      <td>1.0</td>\n",
       "    </tr>\n",
       "    <tr>\n",
       "      <th>4</th>\n",
       "      <td>answer who among these the most powerful world...</td>\n",
       "      <td>1.0</td>\n",
       "    </tr>\n",
       "  </tbody>\n",
       "</table>\n",
       "</div>"
      ],
      "text/plain": [
       "                                                text  sentiment\n",
       "0  when modi promised âminimum government maxim...       -1.0\n",
       "1  talk all the nonsense and continue all the dra...        0.0\n",
       "2  what did just say vote for modi  welcome bjp t...        1.0\n",
       "3  asking his supporters prefix chowkidar their n...        1.0\n",
       "4  answer who among these the most powerful world...        1.0"
      ]
     },
     "execution_count": 3,
     "metadata": {},
     "output_type": "execute_result"
    }
   ],
   "source": [
    "analysis_df.head()"
   ]
  },
  {
   "cell_type": "code",
   "execution_count": 4,
   "metadata": {},
   "outputs": [],
   "source": [
    "# convert the sentiments to numeric data.\n",
    "def ConvertSentiments(_sentiment):\n",
    "    cvt_sentiment = 0\n",
    "    if _sentiment == 1:\n",
    "        cvt_sentiment = 2\n",
    "    elif _sentiment == 0:\n",
    "        cvt_sentiment = 1\n",
    "    else:\n",
    "        cvt_sentiment = 0\n",
    "        \n",
    "    return cvt_sentiment"
   ]
  },
  {
   "cell_type": "code",
   "execution_count": 5,
   "metadata": {},
   "outputs": [],
   "source": [
    "analysis_df['C_Sentiment'] = analysis_df.sentiment.apply(ConvertSentiments)"
   ]
  },
  {
   "cell_type": "code",
   "execution_count": 6,
   "metadata": {},
   "outputs": [
    {
     "name": "stdout",
     "output_type": "stream",
     "text": [
      "(162951, 3)\n"
     ]
    },
    {
     "data": {
      "text/html": [
       "<div>\n",
       "<style scoped>\n",
       "    .dataframe tbody tr th:only-of-type {\n",
       "        vertical-align: middle;\n",
       "    }\n",
       "\n",
       "    .dataframe tbody tr th {\n",
       "        vertical-align: top;\n",
       "    }\n",
       "\n",
       "    .dataframe thead th {\n",
       "        text-align: right;\n",
       "    }\n",
       "</style>\n",
       "<table border=\"1\" class=\"dataframe\">\n",
       "  <thead>\n",
       "    <tr style=\"text-align: right;\">\n",
       "      <th></th>\n",
       "      <th>text</th>\n",
       "      <th>sentiment</th>\n",
       "      <th>C_Sentiment</th>\n",
       "    </tr>\n",
       "  </thead>\n",
       "  <tbody>\n",
       "    <tr>\n",
       "      <th>0</th>\n",
       "      <td>when modi promised âminimum government maxim...</td>\n",
       "      <td>-1.0</td>\n",
       "      <td>0</td>\n",
       "    </tr>\n",
       "    <tr>\n",
       "      <th>1</th>\n",
       "      <td>talk all the nonsense and continue all the dra...</td>\n",
       "      <td>0.0</td>\n",
       "      <td>1</td>\n",
       "    </tr>\n",
       "    <tr>\n",
       "      <th>2</th>\n",
       "      <td>what did just say vote for modi  welcome bjp t...</td>\n",
       "      <td>1.0</td>\n",
       "      <td>2</td>\n",
       "    </tr>\n",
       "    <tr>\n",
       "      <th>3</th>\n",
       "      <td>asking his supporters prefix chowkidar their n...</td>\n",
       "      <td>1.0</td>\n",
       "      <td>2</td>\n",
       "    </tr>\n",
       "    <tr>\n",
       "      <th>4</th>\n",
       "      <td>answer who among these the most powerful world...</td>\n",
       "      <td>1.0</td>\n",
       "      <td>2</td>\n",
       "    </tr>\n",
       "  </tbody>\n",
       "</table>\n",
       "</div>"
      ],
      "text/plain": [
       "                                                text  sentiment  C_Sentiment\n",
       "0  when modi promised âminimum government maxim...       -1.0            0\n",
       "1  talk all the nonsense and continue all the dra...        0.0            1\n",
       "2  what did just say vote for modi  welcome bjp t...        1.0            2\n",
       "3  asking his supporters prefix chowkidar their n...        1.0            2\n",
       "4  answer who among these the most powerful world...        1.0            2"
      ]
     },
     "execution_count": 6,
     "metadata": {},
     "output_type": "execute_result"
    }
   ],
   "source": [
    "print(analysis_df.shape)\n",
    "analysis_df.head()"
   ]
  },
  {
   "cell_type": "code",
   "execution_count": 7,
   "metadata": {},
   "outputs": [
    {
     "data": {
      "text/plain": [
       "Text(0.5, 0, 'Sentiment Type')"
      ]
     },
     "execution_count": 7,
     "metadata": {},
     "output_type": "execute_result"
    },
    {
     "data": {
      "image/png": "[encoded data removed]",
      "text/plain": [
       "<Figure size 432x288 with 1 Axes>"
      ]
     },
     "metadata": {
      "needs_background": "light"
     },
     "output_type": "display_data"
    }
   ],
   "source": [
    "sns.countplot(analysis_df.C_Sentiment)\n",
    "plt.xlabel('Sentiment Type')"
   ]
  },
  {
   "cell_type": "code",
   "execution_count": 8,
   "metadata": {},
   "outputs": [],
   "source": [
    "#converting tweets into lower:\n",
    "analysis_df['text'] = [str(tweets).strip().lower() for tweets in analysis_df['text']]"
   ]
  },
  {
   "cell_type": "code",
   "execution_count": 9,
   "metadata": {},
   "outputs": [],
   "source": [
    "#Text Preprocessing\n",
    "#Contractions:\n",
    "def expand_contractions(text, contraction_mapping=CONTRACTION_MAP):\n",
    "    \n",
    "    contractions_pattern = re.compile('({})'.format('|'.join(contraction_mapping.keys())),flags=re.IGNORECASE|re.DOTALL)\n",
    "    def expand_match(contraction):\n",
    "        match = contraction.group(0)\n",
    "        first_char = match[0]\n",
    "        expanded_contraction = contraction_mapping.get(match)\\\n",
    "                                if contraction_mapping.get(match)\\\n",
    "                                else contraction_mapping.get(match.lower())                       \n",
    "        expanded_contraction = first_char+expanded_contraction[1:]\n",
    "        return expanded_contraction\n",
    "        \n",
    "    expanded_text = contractions_pattern.sub(expand_match, text)\n",
    "    expanded_text = re.sub(\"'\", \"\", expanded_text)\n",
    "    return expanded_text\n",
    "\n",
    "\n",
    "#Scrub word removal:\n",
    "def scrub_words(text):\n",
    "    #Replace \\xao characters in text\n",
    "    text = re.sub('\\xa0', ' ', text)\n",
    "    \n",
    "    #Replace non ascii / not words and digits\n",
    "    text = re.sub(\"(\\\\W|\\\\d)\",' ',text)\n",
    "    \n",
    "    #Replace new line characters and following text untill space\n",
    "    text = re.sub('\\n(\\w*?)[\\s]', '', text)\n",
    "    \n",
    "    #Remove html markup\n",
    "    text = re.sub(\"<.*?>\", ' ', text)\n",
    "    return text\n",
    "\n",
    "#Creating function object to convert ASCII character\n",
    "def remove_accented_chars(text):\n",
    "    text = unicodedata.normalize('NFKD', text).encode('ascii', 'ignore').decode('utf-8', 'ignore')\n",
    "    return text"
   ]
  },
  {
   "cell_type": "code",
   "execution_count": 10,
   "metadata": {},
   "outputs": [],
   "source": [
    "analysis_df['text'] = analysis_df.text.apply(expand_contractions)"
   ]
  },
  {
   "cell_type": "code",
   "execution_count": 11,
   "metadata": {},
   "outputs": [],
   "source": [
    "analysis_df['text'] = analysis_df.text.apply(scrub_words)"
   ]
  },
  {
   "cell_type": "code",
   "execution_count": 12,
   "metadata": {},
   "outputs": [],
   "source": [
    "analysis_df['text'] = analysis_df.text.apply(remove_accented_chars)"
   ]
  },
  {
   "cell_type": "code",
   "execution_count": 13,
   "metadata": {},
   "outputs": [
    {
     "data": {
      "text/html": [
       "<div>\n",
       "<style scoped>\n",
       "    .dataframe tbody tr th:only-of-type {\n",
       "        vertical-align: middle;\n",
       "    }\n",
       "\n",
       "    .dataframe tbody tr th {\n",
       "        vertical-align: top;\n",
       "    }\n",
       "\n",
       "    .dataframe thead th {\n",
       "        text-align: right;\n",
       "    }\n",
       "</style>\n",
       "<table border=\"1\" class=\"dataframe\">\n",
       "  <thead>\n",
       "    <tr style=\"text-align: right;\">\n",
       "      <th></th>\n",
       "      <th>text</th>\n",
       "      <th>sentiment</th>\n",
       "      <th>C_Sentiment</th>\n",
       "    </tr>\n",
       "  </thead>\n",
       "  <tbody>\n",
       "    <tr>\n",
       "      <th>0</th>\n",
       "      <td>when modi promised a  minimum government maxim...</td>\n",
       "      <td>-1.0</td>\n",
       "      <td>0</td>\n",
       "    </tr>\n",
       "    <tr>\n",
       "      <th>1</th>\n",
       "      <td>talk all the nonsense and continue all the dra...</td>\n",
       "      <td>0.0</td>\n",
       "      <td>1</td>\n",
       "    </tr>\n",
       "    <tr>\n",
       "      <th>2</th>\n",
       "      <td>what did just say vote for modi  welcome bjp t...</td>\n",
       "      <td>1.0</td>\n",
       "      <td>2</td>\n",
       "    </tr>\n",
       "    <tr>\n",
       "      <th>3</th>\n",
       "      <td>asking his supporters prefix chowkidar their n...</td>\n",
       "      <td>1.0</td>\n",
       "      <td>2</td>\n",
       "    </tr>\n",
       "    <tr>\n",
       "      <th>4</th>\n",
       "      <td>answer who among these the most powerful world...</td>\n",
       "      <td>1.0</td>\n",
       "      <td>2</td>\n",
       "    </tr>\n",
       "  </tbody>\n",
       "</table>\n",
       "</div>"
      ],
      "text/plain": [
       "                                                text  sentiment  C_Sentiment\n",
       "0  when modi promised a  minimum government maxim...       -1.0            0\n",
       "1  talk all the nonsense and continue all the dra...        0.0            1\n",
       "2  what did just say vote for modi  welcome bjp t...        1.0            2\n",
       "3  asking his supporters prefix chowkidar their n...        1.0            2\n",
       "4  answer who among these the most powerful world...        1.0            2"
      ]
     },
     "execution_count": 13,
     "metadata": {},
     "output_type": "execute_result"
    }
   ],
   "source": [
    "analysis_df.head()"
   ]
  },
  {
   "cell_type": "code",
   "execution_count": 14,
   "metadata": {},
   "outputs": [],
   "source": [
    "# stopwords:\n",
    "stopWords = stopwords.words('english')\n",
    "#add extra stop word\n",
    "extra_stopWords = ['na','rt','http']\n",
    "stopWords.extend(extra_stopWords)"
   ]
  },
  {
   "cell_type": "code",
   "execution_count": 15,
   "metadata": {},
   "outputs": [
    {
     "name": "stdout",
     "output_type": "stream",
     "text": [
      "['i', 'me', 'my', 'myself', 'we', 'our', 'ours', 'ourselves', 'you', \"you're\", \"you've\", \"you'll\", \"you'd\", 'your', 'yours', 'yourself', 'yourselves', 'he', 'him', 'his', 'himself', 'she', \"she's\", 'her', 'hers', 'herself', 'it', \"it's\", 'its', 'itself', 'they', 'them', 'their', 'theirs', 'themselves', 'what', 'which', 'who', 'whom', 'this', 'that', \"that'll\", 'these', 'those', 'am', 'is', 'are', 'was', 'were', 'be', 'been', 'being', 'have', 'has', 'had', 'having', 'do', 'does', 'did', 'doing', 'a', 'an', 'the', 'and', 'but', 'if', 'or', 'because', 'as', 'until', 'while', 'of', 'at', 'by', 'for', 'with', 'about', 'against', 'between', 'into', 'through', 'during', 'before', 'after', 'above', 'below', 'to', 'from', 'up', 'down', 'in', 'out', 'on', 'off', 'over', 'under', 'again', 'further', 'then', 'once', 'here', 'there', 'when', 'where', 'why', 'how', 'all', 'any', 'both', 'each', 'few', 'more', 'most', 'other', 'some', 'such', 'no', 'nor', 'not', 'only', 'own', 'same', 'so', 'than', 'too', 'very', 's', 't', 'can', 'will', 'just', 'don', \"don't\", 'should', \"should've\", 'now', 'd', 'll', 'm', 'o', 're', 've', 'y', 'ain', 'aren', \"aren't\", 'couldn', \"couldn't\", 'didn', \"didn't\", 'doesn', \"doesn't\", 'hadn', \"hadn't\", 'hasn', \"hasn't\", 'haven', \"haven't\", 'isn', \"isn't\", 'ma', 'mightn', \"mightn't\", 'mustn', \"mustn't\", 'needn', \"needn't\", 'shan', \"shan't\", 'shouldn', \"shouldn't\", 'wasn', \"wasn't\", 'weren', \"weren't\", 'won', \"won't\", 'wouldn', \"wouldn't\", 'na', 'rt', 'http']\n"
     ]
    }
   ],
   "source": [
    "print(stopWords)"
   ]
  },
  {
   "cell_type": "markdown",
   "metadata": {},
   "source": [
    "### Tokenization and Stop word removal. (Stemming or Lemmatization)"
   ]
  },
  {
   "cell_type": "code",
   "execution_count": 16,
   "metadata": {},
   "outputs": [],
   "source": [
    "# Tokenization and Stop word removal.\n",
    "stemmer = PorterStemmer()\n",
    "lemmatizer = WordNetLemmatizer()\n",
    "\n",
    "def Tokenizer_SWR_SL(_text, isLemamtize = False):\n",
    "    tweets = text_to_word_sequence(_text)\n",
    "    if isLemamtize:\n",
    "        tweets = [lemmatizer.lemmatize(word) for word in tweets if not word in stopWords]\n",
    "    else:\n",
    "        tweets = [stemmer.stem(word) for word in tweets if not word in stopWords]    \n",
    "    tweets = ' '.join(tweets)\n",
    "    \n",
    "    return tweets"
   ]
  },
  {
   "cell_type": "code",
   "execution_count": 17,
   "metadata": {},
   "outputs": [
    {
     "data": {
      "text/html": [
       "<div>\n",
       "<style scoped>\n",
       "    .dataframe tbody tr th:only-of-type {\n",
       "        vertical-align: middle;\n",
       "    }\n",
       "\n",
       "    .dataframe tbody tr th {\n",
       "        vertical-align: top;\n",
       "    }\n",
       "\n",
       "    .dataframe thead th {\n",
       "        text-align: right;\n",
       "    }\n",
       "</style>\n",
       "<table border=\"1\" class=\"dataframe\">\n",
       "  <thead>\n",
       "    <tr style=\"text-align: right;\">\n",
       "      <th></th>\n",
       "      <th>text</th>\n",
       "      <th>sentiment</th>\n",
       "      <th>C_Sentiment</th>\n",
       "    </tr>\n",
       "  </thead>\n",
       "  <tbody>\n",
       "    <tr>\n",
       "      <th>0</th>\n",
       "      <td>modi promis minimum govern maximum governancea...</td>\n",
       "      <td>-1.0</td>\n",
       "      <td>0</td>\n",
       "    </tr>\n",
       "    <tr>\n",
       "      <th>1</th>\n",
       "      <td>talk nonsens continu drama vote modi</td>\n",
       "      <td>0.0</td>\n",
       "      <td>1</td>\n",
       "    </tr>\n",
       "    <tr>\n",
       "      <th>2</th>\n",
       "      <td>say vote modi welcom bjp told rahul main campa...</td>\n",
       "      <td>1.0</td>\n",
       "      <td>2</td>\n",
       "    </tr>\n",
       "    <tr>\n",
       "      <th>3</th>\n",
       "      <td>ask support prefix chowkidar name modi great s...</td>\n",
       "      <td>1.0</td>\n",
       "      <td>2</td>\n",
       "    </tr>\n",
       "    <tr>\n",
       "      <th>4</th>\n",
       "      <td>answer among power world leader today trump pu...</td>\n",
       "      <td>1.0</td>\n",
       "      <td>2</td>\n",
       "    </tr>\n",
       "  </tbody>\n",
       "</table>\n",
       "</div>"
      ],
      "text/plain": [
       "                                                text  sentiment  C_Sentiment\n",
       "0  modi promis minimum govern maximum governancea...       -1.0            0\n",
       "1               talk nonsens continu drama vote modi        0.0            1\n",
       "2  say vote modi welcom bjp told rahul main campa...        1.0            2\n",
       "3  ask support prefix chowkidar name modi great s...        1.0            2\n",
       "4  answer among power world leader today trump pu...        1.0            2"
      ]
     },
     "execution_count": 17,
     "metadata": {},
     "output_type": "execute_result"
    }
   ],
   "source": [
    "analysis_df['text'] = analysis_df.text.apply(Tokenizer_SWR_SL,True)\n",
    "analysis_df.head()"
   ]
  },
  {
   "cell_type": "code",
   "execution_count": 18,
   "metadata": {},
   "outputs": [
    {
     "name": "stdout",
     "output_type": "stream",
     "text": [
      "0    [modi, promis, minimum, govern, maximum, gover...\n",
      "1          [talk, nonsens, continu, drama, vote, modi]\n",
      "2    [say, vote, modi, welcom, bjp, told, rahul, ma...\n",
      "3    [ask, support, prefix, chowkidar, name, modi, ...\n",
      "4    [answer, among, power, world, leader, today, t...\n",
      "Name: text, dtype: object\n"
     ]
    }
   ],
   "source": [
    "#Word tokenizing the tweets so that it can be proessed further.\n",
    "tokenized_tweet  = analysis_df.text.apply(lambda x: text_to_word_sequence(x))\n",
    "print(tokenized_tweet [0:5])"
   ]
  },
  {
   "cell_type": "code",
   "execution_count": 19,
   "metadata": {},
   "outputs": [],
   "source": [
    "# find the max length within the tweets.\n",
    "def FindMaxLength(_tweet_seq):\n",
    "    tweet_length = []\n",
    "    for tweet in _tweet_seq:\n",
    "        tweet_length.append(len(tweet))\n",
    "    return max(tweet_length)     "
   ]
  },
  {
   "cell_type": "code",
   "execution_count": 20,
   "metadata": {},
   "outputs": [],
   "source": [
    "#Tokenizer\n",
    "tokenizer = Tokenizer()\n",
    "tokenizer.fit_on_texts(tokenized_tweet)\n",
    "tweet_seq = tokenizer.texts_to_sequences(tokenized_tweet)"
   ]
  },
  {
   "cell_type": "code",
   "execution_count": 21,
   "metadata": {},
   "outputs": [],
   "source": [
    "max_length = FindMaxLength(tweet_seq)"
   ]
  },
  {
   "cell_type": "code",
   "execution_count": 22,
   "metadata": {},
   "outputs": [
    {
     "name": "stdout",
     "output_type": "stream",
     "text": [
      "unique tokens - 84521\n",
      "vocab_size - 84522\n",
      "(162951, 59)\n"
     ]
    },
    {
     "data": {
      "text/plain": [
       "array([    1,    54,   699,    27,  1533, 17302,   271,   896,  1093,\n",
       "          55,  1207,   115,    28,    14,    21,   995,   115,   265,\n",
       "        3011,  2652,  1106,     0,     0,     0,     0,     0,     0,\n",
       "           0,     0,     0,     0,     0,     0,     0,     0,     0,\n",
       "           0,     0,     0,     0,     0,     0,     0,     0,     0,\n",
       "           0,     0,     0,     0,     0,     0,     0,     0,     0,\n",
       "           0,     0,     0,     0,     0])"
      ]
     },
     "execution_count": 22,
     "metadata": {},
     "output_type": "execute_result"
    }
   ],
   "source": [
    "#Assigning unique int values for each vocabulary\n",
    "word_index = tokenizer.word_index\n",
    "print(f\"unique tokens - {len(word_index)}\")\n",
    "vocab_size = len(tokenizer.word_index) + 1\n",
    "print(f'vocab_size - {vocab_size}')\n",
    "\n",
    "# Padding the tweets with max tweet length. post padding is done.\n",
    "# X Attribute:\n",
    "lines_pad = pad_sequences(tweet_seq, maxlen=max_length, padding='post')\n",
    "# Target Attribute:\n",
    "category =  analysis_df['C_Sentiment'].values\n",
    "\n",
    "#Example for padded tweet.\n",
    "print(lines_pad.shape)\n",
    "lines_pad[0]"
   ]
  },
  {
   "cell_type": "markdown",
   "metadata": {},
   "source": [
    "#### Train & Test split"
   ]
  },
  {
   "cell_type": "code",
   "execution_count": 23,
   "metadata": {},
   "outputs": [
    {
     "data": {
      "text/plain": [
       "array([[1., 0., 0.],\n",
       "       [0., 1., 0.],\n",
       "       [0., 0., 1.],\n",
       "       [0., 0., 1.],\n",
       "       [0., 1., 0.],\n",
       "       [0., 1., 0.],\n",
       "       [0., 1., 0.],\n",
       "       [1., 0., 0.]])"
      ]
     },
     "execution_count": 23,
     "metadata": {},
     "output_type": "execute_result"
    }
   ],
   "source": [
    "#Manual way of dummification example.\n",
    "testCat = [0,1,2,2,1,1,1,0]\n",
    "np.eye(3)[testCat]"
   ]
  },
  {
   "cell_type": "code",
   "execution_count": 24,
   "metadata": {},
   "outputs": [],
   "source": [
    "test_split = 0.3\n",
    "validation_split = 0.5\n",
    "random_st = 123\n",
    "# Shuffling data.\n",
    "indices = np.arange(lines_pad.shape[0])\n",
    "np.random.shuffle(indices)\n",
    "lines_pad = lines_pad[indices] # Shuffled form of X attributes\n",
    "category = category[indices] # Shuffled form of target variables\n",
    "\n",
    "n_values = max(category) + 1\n",
    "# Dummifying the target attribute\n",
    "Y = np.eye(n_values)[category]\n",
    "\n",
    "#The data is split into Train=70% & Test=30%.\n",
    "X_train, X_test, y_train, y_test = train_test_split(lines_pad, Y , test_size=test_split, random_state=random_st)\n",
    "#The Test data is again split into Test=50% & Validation=50%.\n",
    "X_test, X_val, y_test, y_val = train_test_split(X_test, y_test , test_size=validation_split, random_state=random_st)"
   ]
  },
  {
   "cell_type": "code",
   "execution_count": 25,
   "metadata": {},
   "outputs": [
    {
     "name": "stdout",
     "output_type": "stream",
     "text": [
      "Shape of X_train :(114065, 59)\n",
      "Shape of y_train :(114065, 3)\n",
      "\n",
      "Shape of X_test :(24443, 59)\n",
      "Shape of y_test :(24443, 3)\n",
      "\n",
      "Shape of X_val :(24443, 59)\n",
      "Shape of y_val :(24443, 3)\n"
     ]
    }
   ],
   "source": [
    "print(f'Shape of X_train :{X_train.shape}')\n",
    "print(f'Shape of y_train :{y_train.shape}\\n')\n",
    "\n",
    "print(f'Shape of X_test :{X_test.shape}')\n",
    "print(f'Shape of y_test :{y_test.shape}\\n')\n",
    "\n",
    "print(f'Shape of X_val :{X_val.shape}')\n",
    "print(f'Shape of y_val :{y_val.shape}')"
   ]
  },
  {
   "cell_type": "markdown",
   "metadata": {},
   "source": [
    "## Word2Vec"
   ]
  },
  {
   "cell_type": "code",
   "execution_count": 26,
   "metadata": {},
   "outputs": [],
   "source": [
    "#Loading Word2vec pretrained model.\n",
    "embedding_dim = 300\n",
    "word2vec_dir = \"D:\\Word2Vec\\PretrainedModel\"\n",
    "word2vec_model = KeyedVectors.load_word2vec_format(os.path.join(word2vec_dir,'GoogleNews-vectors-negative300.bin'), binary=True)"
   ]
  },
  {
   "cell_type": "code",
   "execution_count": 27,
   "metadata": {},
   "outputs": [],
   "source": [
    "#Creating embedding matrix\n",
    "#creating a empty matrix with rows of (len(word_index)+ 1) and columns of embedding_dim(300)\n",
    "embedding_matrix = np.zeros((len(word_index) + 1, embedding_dim))\n",
    "for word, _id in word_index.items():\n",
    "    #Add embedding vectors od vocabulary that is present in Word2vec\n",
    "    if word in word2vec_model: \n",
    "        embedding_vector = word2vec_model[word]\n",
    "        embedding_matrix[_id] = embedding_vector"
   ]
  },
  {
   "cell_type": "code",
   "execution_count": 28,
   "metadata": {},
   "outputs": [],
   "source": [
    "#Creating embedding layer.\n",
    "#Setting trainable to false since we are using vec from Word2Vec\n",
    "embedding_layer = Embedding(len(word_index) + 1,embedding_dim,weights=[embedding_matrix],\n",
    "                            input_length=max_length,trainable=False)"
   ]
  },
  {
   "cell_type": "code",
   "execution_count": 29,
   "metadata": {},
   "outputs": [
    {
     "name": "stdout",
     "output_type": "stream",
     "text": [
      "Model: \"sequential_1\"\n",
      "_________________________________________________________________\n",
      "Layer (type)                 Output Shape              Param #   \n",
      "=================================================================\n",
      "embedding_1 (Embedding)      (None, 59, 300)           25356600  \n",
      "_________________________________________________________________\n",
      "lstm_1 (LSTM)                (None, 32)                42624     \n",
      "_________________________________________________________________\n",
      "dense_1 (Dense)              (None, 3)                 99        \n",
      "=================================================================\n",
      "Total params: 25,399,323\n",
      "Trainable params: 42,723\n",
      "Non-trainable params: 25,356,600\n",
      "_________________________________________________________________\n",
      "None\n"
     ]
    }
   ],
   "source": [
    "#LSTM Model building\n",
    "lstm_word2vec_model = Sequential()\n",
    "lstm_word2vec_model.add(embedding_layer)\n",
    "lstm_word2vec_model.add(LSTM(units=32,  dropout=0.2, recurrent_dropout=0.25))\n",
    "#model with 3 neurons in the output layer.\n",
    "lstm_word2vec_model.add(Dense(3, activation='softmax'))\n",
    "\n",
    "lstm_word2vec_model.compile(loss='categorical_crossentropy', optimizer='adam', metrics=['accuracy'])\n",
    "\n",
    "print(lstm_word2vec_model.summary())"
   ]
  },
  {
   "cell_type": "code",
   "execution_count": 30,
   "metadata": {},
   "outputs": [],
   "source": [
    "# Checkpoint for early stopping and saving the model\n",
    "checkpoint = ModelCheckpoint('LSTM-SentimentModel.h5', verbose=1, monitor='val_accuracy',save_best_only=True, mode='auto')"
   ]
  },
  {
   "cell_type": "code",
   "execution_count": 31,
   "metadata": {},
   "outputs": [
    {
     "name": "stdout",
     "output_type": "stream",
     "text": [
      "Train on 114065 samples, validate on 24443 samples\n",
      "Epoch 1/10\n",
      "114065/114065 [==============================] - 109s 960us/step - loss: 0.8758 - accuracy: 0.5972 - val_loss: 0.7711 - val_accuracy: 0.6685\n",
      "\n",
      "Epoch 00001: val_accuracy improved from -inf to 0.66849, saving model to LSTM-SentimentModel.h5\n",
      "Epoch 2/10\n",
      "114065/114065 [==============================] - 109s 954us/step - loss: 0.7271 - accuracy: 0.6918 - val_loss: 0.6655 - val_accuracy: 0.7263\n",
      "\n",
      "Epoch 00002: val_accuracy improved from 0.66849 to 0.72634, saving model to LSTM-SentimentModel.h5\n",
      "Epoch 3/10\n",
      "114065/114065 [==============================] - 109s 952us/step - loss: 0.6759 - accuracy: 0.7192 - val_loss: 0.6285 - val_accuracy: 0.7445\n",
      "\n",
      "Epoch 00003: val_accuracy improved from 0.72634 to 0.74451, saving model to LSTM-SentimentModel.h5\n",
      "Epoch 4/10\n",
      "114065/114065 [==============================] - 109s 955us/step - loss: 0.6505 - accuracy: 0.7318 - val_loss: 0.6070 - val_accuracy: 0.7576\n",
      "\n",
      "Epoch 00004: val_accuracy improved from 0.74451 to 0.75764, saving model to LSTM-SentimentModel.h5\n",
      "Epoch 5/10\n",
      "114065/114065 [==============================] - 109s 952us/step - loss: 0.6304 - accuracy: 0.7447 - val_loss: 0.5953 - val_accuracy: 0.7650\n",
      "\n",
      "Epoch 00005: val_accuracy improved from 0.75764 to 0.76505, saving model to LSTM-SentimentModel.h5\n",
      "Epoch 6/10\n",
      "114065/114065 [==============================] - 109s 954us/step - loss: 0.6129 - accuracy: 0.7535 - val_loss: 0.5740 - val_accuracy: 0.7788\n",
      "\n",
      "Epoch 00006: val_accuracy improved from 0.76505 to 0.77883, saving model to LSTM-SentimentModel.h5\n",
      "Epoch 7/10\n",
      "114065/114065 [==============================] - 109s 953us/step - loss: 0.5973 - accuracy: 0.7638 - val_loss: 0.5627 - val_accuracy: 0.7842\n",
      "\n",
      "Epoch 00007: val_accuracy improved from 0.77883 to 0.78415, saving model to LSTM-SentimentModel.h5\n",
      "Epoch 8/10\n",
      "114065/114065 [==============================] - 109s 954us/step - loss: 0.5862 - accuracy: 0.7696 - val_loss: 0.5521 - val_accuracy: 0.7897\n",
      "\n",
      "Epoch 00008: val_accuracy improved from 0.78415 to 0.78967, saving model to LSTM-SentimentModel.h5\n",
      "Epoch 9/10\n",
      "114065/114065 [==============================] - 109s 954us/step - loss: 0.5777 - accuracy: 0.7756 - val_loss: 0.5466 - val_accuracy: 0.7922\n",
      "\n",
      "Epoch 00009: val_accuracy improved from 0.78967 to 0.79217, saving model to LSTM-SentimentModel.h5\n",
      "Epoch 10/10\n",
      "114065/114065 [==============================] - 109s 953us/step - loss: 0.5687 - accuracy: 0.7790 - val_loss: 0.5422 - val_accuracy: 0.7975\n",
      "\n",
      "Epoch 00010: val_accuracy improved from 0.79217 to 0.79753, saving model to LSTM-SentimentModel.h5\n"
     ]
    }
   ],
   "source": [
    "lstm_word2vec = lstm_word2vec_model.fit(X_train, y_train, batch_size=32, epochs=10, validation_data=(X_test, y_test), callbacks=[checkpoint], verbose=1)"
   ]
  },
  {
   "cell_type": "code",
   "execution_count": 32,
   "metadata": {},
   "outputs": [
    {
     "data": {
      "image/png": "[encoded data removed]",
      "text/plain": [
       "<Figure size 432x288 with 1 Axes>"
      ]
     },
     "metadata": {
      "needs_background": "light"
     },
     "output_type": "display_data"
    },
    {
     "data": {
      "image/png": "[encoded data removed]",
      "text/plain": [
       "<Figure size 432x288 with 1 Axes>"
      ]
     },
     "metadata": {
      "needs_background": "light"
     },
     "output_type": "display_data"
    }
   ],
   "source": [
    "# Plot results\n",
    "import matplotlib.pyplot as plt\n",
    "\n",
    "acc = lstm_word2vec.history['accuracy']\n",
    "val_acc = lstm_word2vec.history['val_accuracy']\n",
    "loss = lstm_word2vec.history['loss']\n",
    "val_loss = lstm_word2vec.history['val_loss']\n",
    "\n",
    "epochs = range(1, len(acc)+1)\n",
    "\n",
    "plt.plot(epochs, acc, 'g', label='Training accuracy')\n",
    "plt.plot(epochs, val_acc, 'r', label='Validation accuracy')\n",
    "plt.title('Training and validation accuracy')\n",
    "plt.legend()\n",
    "\n",
    "plt.figure()\n",
    "\n",
    "plt.plot(epochs, loss, 'g', label='Training loss')\n",
    "plt.plot(epochs, val_loss, 'r', label='Validation loss')\n",
    "plt.title('Training and validation loss')\n",
    "plt.legend()\n",
    "\n",
    "plt.show()"
   ]
  },
  {
   "cell_type": "code",
   "execution_count": 33,
   "metadata": {},
   "outputs": [],
   "source": [
    "val_pred = lstm_word2vec_model.predict_classes(X_val)"
   ]
  },
  {
   "cell_type": "code",
   "execution_count": 34,
   "metadata": {},
   "outputs": [],
   "source": [
    "val_actual = [np.argmax(data) for data in y_val]"
   ]
  },
  {
   "cell_type": "code",
   "execution_count": 37,
   "metadata": {},
   "outputs": [
    {
     "name": "stdout",
     "output_type": "stream",
     "text": [
      "F! score for Validation :  0.7785975348371103\n"
     ]
    }
   ],
   "source": [
    "print(\"F! score for Validation : \",f1_score(val_actual,val_pred,average='macro'))"
   ]
  },
  {
   "cell_type": "code",
   "execution_count": 38,
   "metadata": {},
   "outputs": [
    {
     "name": "stdout",
     "output_type": "stream",
     "text": [
      "Accuracy for validation data :  0.7971607413165324\n"
     ]
    }
   ],
   "source": [
    "print(\"Accuracy for validation data : \", accuracy_score(val_actual,val_pred))"
   ]
  }
 ],
 "metadata": {
  "kernelspec": {
   "display_name": "Python 3",
   "language": "python",
   "name": "python3"
  },
  "language_info": {
   "codemirror_mode": {
    "name": "ipython",
    "version": 3
   },
   "file_extension": ".py",
   "mimetype": "text/x-python",
   "name": "python",
   "nbconvert_exporter": "python",
   "pygments_lexer": "ipython3",
   "version": "3.7.7"
  }
 },
 "nbformat": 4,
 "nbformat_minor": 4
}
