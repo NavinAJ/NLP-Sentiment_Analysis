{
 "cells": [
  {
   "cell_type": "markdown",
   "metadata": {},
   "source": [
    "<h1 align='center'> Chatbot - Tamil"
   ]
  },
  {
   "cell_type": "code",
   "execution_count": null,
   "metadata": {},
   "outputs": [],
   "source": [
    "# !pip install torch==1.3.1+cpu -f https://download.pytorch.org/whl/torch_stable.html\n",
    "# !pip install inltk"
   ]
  },
  {
   "cell_type": "code",
   "execution_count": null,
   "metadata": {},
   "outputs": [],
   "source": [
    "import io\n",
    "import random\n",
    "import string \n",
    "import warnings\n",
    "import numpy as np\n",
    "from sklearn.feature_extraction.text import TfidfVectorizer\n",
    "from sklearn.metrics.pairwise import cosine_similarity\n",
    "import warnings\n",
    "from prompt_toolkit import print_formatted_text,HTML\n",
    "\n",
    "###############  nltk  ####################\n",
    "import nltk\n",
    "from nltk.stem import WordNetLemmatizer\n",
    "from nltk import word_tokenize\n",
    "nltk.download('popular', quiet=True) # for downloading packages\n",
    "\n",
    "###############  inltk  ####################\n",
    "from inltk.inltk import predict_next_words\n",
    "from inltk.inltk import get_similar_sentences\n",
    "from inltk.inltk import get_sentence_similarity\n",
    "import re\n",
    "\n",
    "from inltk.inltk import setup\n",
    "from inltk.inltk import tokenize\n",
    "from inltk.inltk import get_embedding_vectors\n",
    "\n",
    "\n",
    "warnings.filterwarnings('ignore')"
   ]
  },
  {
   "cell_type": "code",
   "execution_count": null,
   "metadata": {},
   "outputs": [],
   "source": [
    "# setup('ta')"
   ]
  },
  {
   "cell_type": "markdown",
   "metadata": {},
   "source": [
    "### Examples inltk"
   ]
  },
  {
   "cell_type": "code",
   "execution_count": null,
   "metadata": {},
   "outputs": [],
   "source": [
    "example_sent = \"உங்களைப் பார்த்து நிறைய நாட்கள் ஆகிவிட்டது\"# Predict next 'n' tokens\n",
    "n = 5\n",
    "pred_sent = predict_next_words(example_sent, n, 'ta')# Get 'n' similar sentence\n",
    "n = 2\n",
    "simi_sent = get_similar_sentences(example_sent, n, 'ta')"
   ]
  },
  {
   "cell_type": "code",
   "execution_count": null,
   "metadata": {},
   "outputs": [],
   "source": [
    "print(\"Predicted Words:\", pred_sent)\n",
    "print(\"Similar Sentences:\", simi_sent)"
   ]
  },
  {
   "cell_type": "markdown",
   "metadata": {},
   "source": [
    "### Read Text file."
   ]
  },
  {
   "cell_type": "code",
   "execution_count": null,
   "metadata": {},
   "outputs": [],
   "source": [
    "f=open('MG-Hector_Details.txt','r',errors = 'ignore',encoding='utf8')\n",
    "raw=f.read()"
   ]
  },
  {
   "cell_type": "markdown",
   "metadata": {},
   "source": [
    "### Tokenization:"
   ]
  },
  {
   "cell_type": "code",
   "execution_count": null,
   "metadata": {},
   "outputs": [],
   "source": [
    "sent_tokens = nltk.sent_tokenize(raw)# converts to list of sentences \n",
    "word_tokens = nltk.word_tokenize(raw)# converts to list of words"
   ]
  },
  {
   "cell_type": "markdown",
   "metadata": {},
   "source": [
    "### Greetings"
   ]
  },
  {
   "cell_type": "code",
   "execution_count": null,
   "metadata": {},
   "outputs": [],
   "source": [
    "GREETING_INPUTS = (\"வணக்கம்\", \"வாழ்த்துக்கள்\", \"ஏய்\", \"ஹாய்\")\n",
    "GREETING_RESPONSES = [\"ஹாய்\", \"வணக்கம்\",\"வாருங்கள்\", \"ஹாய், நீங்கள் எப்படி இருக்கிறீர்கள்\"]\n",
    "def greeting(sentence):\n",
    "    for word in sentence.split():\n",
    "        if word.lower() in GREETING_INPUTS:\n",
    "            return random.choice(GREETING_RESPONSES)"
   ]
  },
  {
   "cell_type": "markdown",
   "metadata": {},
   "source": [
    "### Function for getting response for the user questions."
   ]
  },
  {
   "cell_type": "code",
   "execution_count": null,
   "metadata": {},
   "outputs": [],
   "source": [
    "def GetResponse(user_response):\n",
    "    robo_response=''\n",
    "    #Append the use response to the sentence tokens\n",
    "    sent_tokens.append(user_response)\n",
    "    TfidfVec = TfidfVectorizer()\n",
    "    #find the tfidf vectors for the sentence tokens\n",
    "    tfidf = TfidfVec.fit_transform(sent_tokens)\n",
    "    #find the cosine similarity btw the appended word and all other words in the sentence tokens\n",
    "    vals = cosine_similarity(tfidf[-1], tfidf)\n",
    "    #sort the score of similarities by leaving the last appended sentence score.\n",
    "    idx=vals.argsort()[0][-2]\n",
    "    flat = vals.flatten()\n",
    "    flat.sort()\n",
    "    req_tfidf = flat[-2]\n",
    "    # Check for highest cosine similarity score.\n",
    "    if(req_tfidf==0):\n",
    "        robo_response=robo_response+\"என்னை மன்னித்துவிடு! நீங்கள் என்ன கேட்கிறீர்கள் என்று எனக்கு புரியவில்லைை\"\n",
    "        return robo_response\n",
    "    else:\n",
    "        robo_response = robo_response+sent_tokens[idx]\n",
    "        return robo_response"
   ]
  },
  {
   "cell_type": "markdown",
   "metadata": {},
   "source": [
    "### Chat"
   ]
  },
  {
   "cell_type": "code",
   "execution_count": null,
   "metadata": {},
   "outputs": [],
   "source": [
    "flag=True\n",
    "print_formatted_text(HTML(\"<b>உதவியாளர் : </b>\"),\"ஹாய், எம்ஜி ஹெக்டர் கார் பற்றிய விவரங்களை என்னால் கொடுக்க முடியும். நீங்கள் வெளியேற விரும்பினால், வருகிறேன் என்று தட்டச்சு செய்க!\")\n",
    "print(\"\\n\")\n",
    "while(flag==True):\n",
    "    user_response = input(\"நீங்கள் : \")\n",
    "    if(user_response!='வருகிறேன்'):\n",
    "        if(user_response=='நன்றி' or user_response=='thank you' ):\n",
    "            flag=False\n",
    "            print_formatted_text(HTML(\"<b>உதவியாளர் : </b>\"),\"நீங்கள் வரவேற்கப்படுகிறீர்கள்..\")\n",
    "            print(\"\\n\")\n",
    "        else:\n",
    "            if(greeting(user_response)!=None):\n",
    "                print_formatted_text(HTML(\"<b>உதவியாளர் : </b>\"),greeting(user_response))\n",
    "                print(\"\\n\")\n",
    "            else:\n",
    "                print_formatted_text(HTML(\"<b>உதவியாளர் : </b>\"),end=\"\")\n",
    "                print(GetResponse(user_response))\n",
    "                print(\"\\n\")\n",
    "                sent_tokens.remove(user_response)\n",
    "    else:\n",
    "        flag=False\n",
    "        print_formatted_text(HTML(\"<b>உதவியாளர் : </b>\"),\"நன்றி, மீண்டும் வாருங்கள்\")"
   ]
  },
  {
   "cell_type": "code",
   "execution_count": null,
   "metadata": {},
   "outputs": [],
   "source": []
  }
 ],
 "metadata": {
  "kernelspec": {
   "display_name": "Python 3",
   "language": "python",
   "name": "python3"
  },
  "language_info": {
   "codemirror_mode": {
    "name": "ipython",
    "version": 3
   },
   "file_extension": ".py",
   "mimetype": "text/x-python",
   "name": "python",
   "nbconvert_exporter": "python",
   "pygments_lexer": "ipython3",
   "version": "3.7.7"
  }
 },
 "nbformat": 4,
 "nbformat_minor": 4
}
